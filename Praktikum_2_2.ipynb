{
  "nbformat": 4,
  "nbformat_minor": 0,
  "metadata": {
    "colab": {
      "provenance": []
    },
    "kernelspec": {
      "name": "python3",
      "display_name": "Python 3"
    },
    "language_info": {
      "name": "python"
    }
  },
  "cells": [
    {
      "cell_type": "code",
      "execution_count": 1,
      "metadata": {
        "colab": {
          "base_uri": "https://localhost:8080/"
        },
        "id": "EDO0rRFMvrS_",
        "outputId": "21ea9757-79f7-4d7a-886c-9e9f23e04f5b"
      },
      "outputs": [
        {
          "output_type": "stream",
          "name": "stdout",
          "text": [
            "Looking in indexes: https://pypi.org/simple, https://us-python.pkg.dev/colab-wheels/public/simple/\n",
            "Requirement already satisfied: pygame in /usr/local/lib/python3.9/dist-packages (2.3.0)\n"
          ]
        }
      ],
      "source": [
        "pip install pygame"
      ]
    },
    {
      "cell_type": "code",
      "source": [
        "import pygame\n",
        "\n",
        "# Инициализация Pygame\n",
        "pygame.init()\n",
        "\n",
        "# Определение размеров окна\n",
        "WINDOW_WIDTH = 800\n",
        "WINDOW_HEIGHT = 600\n",
        "\n",
        "# Создание окна\n",
        "window = pygame.display.set_mode((WINDOW_WIDTH, WINDOW_HEIGHT))\n",
        "\n",
        "# Установка заголовка окна\n",
        "pygame.display.set_caption(\"Моя первая игра\")\n"
      ],
      "metadata": {
        "colab": {
          "base_uri": "https://localhost:8080/",
          "height": 235
        },
        "id": "ggAGhaB9vruB",
        "outputId": "17f28f31-0662-440a-d274-38d3361073a8"
      },
      "execution_count": 3,
      "outputs": [
        {
          "output_type": "error",
          "ename": "error",
          "evalue": "ignored",
          "traceback": [
            "\u001b[0;31m---------------------------------------------------------------------------\u001b[0m",
            "\u001b[0;31merror\u001b[0m                                     Traceback (most recent call last)",
            "\u001b[0;32m<ipython-input-3-ea32ed91b170>\u001b[0m in \u001b[0;36m<cell line: 11>\u001b[0;34m()\u001b[0m\n\u001b[1;32m      9\u001b[0m \u001b[0;34m\u001b[0m\u001b[0m\n\u001b[1;32m     10\u001b[0m \u001b[0;31m# Создание окна\u001b[0m\u001b[0;34m\u001b[0m\u001b[0;34m\u001b[0m\u001b[0m\n\u001b[0;32m---> 11\u001b[0;31m \u001b[0mwindow\u001b[0m \u001b[0;34m=\u001b[0m \u001b[0mpygame\u001b[0m\u001b[0;34m.\u001b[0m\u001b[0mdisplay\u001b[0m\u001b[0;34m.\u001b[0m\u001b[0mset_mode\u001b[0m\u001b[0;34m(\u001b[0m\u001b[0;34m(\u001b[0m\u001b[0mWINDOW_WIDTH\u001b[0m\u001b[0;34m,\u001b[0m \u001b[0mWINDOW_HEIGHT\u001b[0m\u001b[0;34m)\u001b[0m\u001b[0;34m)\u001b[0m\u001b[0;34m\u001b[0m\u001b[0;34m\u001b[0m\u001b[0m\n\u001b[0m\u001b[1;32m     12\u001b[0m \u001b[0;34m\u001b[0m\u001b[0m\n\u001b[1;32m     13\u001b[0m \u001b[0;31m# Установка заголовка окна\u001b[0m\u001b[0;34m\u001b[0m\u001b[0;34m\u001b[0m\u001b[0m\n",
            "\u001b[0;31merror\u001b[0m: No available video device"
          ]
        }
      ]
    },
    {
      "cell_type": "code",
      "source": [
        "import pygame\n",
        "\n",
        "# Инициализация Pygame\n",
        "pygame.init()\n",
        "\n",
        "# Определение размеров окна\n",
        "WINDOW_WIDTH = 800\n",
        "WINDOW_HEIGHT = 600\n",
        "\n",
        "# Создание окна\n",
        "window = pygame.display.set_mode((WINDOW_WIDTH, WINDOW_HEIGHT))\n",
        "\n",
        "# Установка заголовка окна\n",
        "pygame.display.set_caption(\"Моя первая игра\")\n"
      ],
      "metadata": {
        "id": "H9_zYoKYvvnK"
      },
      "execution_count": null,
      "outputs": []
    },
    {
      "cell_type": "code",
      "source": [
        "# Цвета\n",
        "BLACK = (0, 0, 0)\n",
        "WHITE = (255, 255, 255)\n",
        "RED = (255, 0, 0)\n",
        "\n",
        "# Радиус и координаты центра круга\n",
        "RADIUS = 50\n",
        "X = WINDOW_WIDTH // 2\n",
        "Y = WINDOW_HEIGHT // 2\n",
        "\n",
        "# Отрисовка круга на поверхности окна\n",
        "pygame.draw.circle(window, RED, (X, Y), RADIUS)\n",
        "\n",
        "# Отображение окна\n",
        "pygame.display.update()\n"
      ],
      "metadata": {
        "id": "RAo_VUL9vxD4"
      },
      "execution_count": null,
      "outputs": []
    },
    {
      "cell_type": "code",
      "source": [],
      "metadata": {
        "id": "qDEy4_hVvzfE"
      },
      "execution_count": null,
      "outputs": []
    }
  ]
}